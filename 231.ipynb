{
 "cells": [
  {
   "cell_type": "markdown",
   "id": "4b9dafee-c7c6-48f3-b974-13b25a7ffc2c",
   "metadata": {},
   "source": [
    "# Module 2: Data Analysis"
   ]
  },
  {
   "cell_type": "markdown",
   "id": "97667d0e-75b1-436e-8151-2881727770ac",
   "metadata": {},
   "source": [
    "## Sprint 3: Statistical Modeling"
   ]
  },
  {
   "cell_type": "markdown",
   "id": "a49c634c-2a27-4a5b-86d5-394294cf99b6",
   "metadata": {},
   "source": [
    "## Part 1: Modeling Fundamentals"
   ]
  },
  {
   "cell_type": "markdown",
   "id": "b58e1e4a-f9eb-4aa0-bf44-1103e87172f7",
   "metadata": {},
   "source": [
    "## About this Sprint\n\nIn this Sprint, you will cover the course, \"Fitting Statistical Models to Data with Python.\" This course will start to bridge the gap between statistics and machine learning. There is no clear boundary between the two. Some things belong to both and others, for example, support vector machines, technically belong to both but are most often found in just one of the two - in this case, machine learning. In the first module, you will focus on linear models - linear regression and logistic regression. These models will introduce you to the other main objective of fitting statistical models - making predictions, based on the fitted models.\n\nIn addition to the statistical models, you'll also learn about the most important tools for data analysts - Tableau and Spark. These tools are quite different - Tableau is focused on data visualizations, while Spark specializes in performance analysis using distributed computing. In practice, knowing the basics of both will prepare you for almost any data infrastructure setup. Many of the other popular tools are built to be compatible or easy to understand for Tableau and Spark users.\n\nFinally, you'll start doing the algorithm exercises on HackerRank.\n"
   ]
  },
  {
   "cell_type": "markdown",
   "id": "974e3715-7843-4548-bd88-ee9c0e52ed18",
   "metadata": {},
   "source": [
    "## About this Part\n\nIn this Part you will start learning about statistical modeling.\nIn the Fitting Statistical Models to Data with Python course you will be introduced to the key model fitting concepts.\nYou will learn about study design, the difference between dependent and independent variables, how to assess the quality of model fit, how to define the objectives of model fitting, and how to different types of variables affect the specification of statistical models.\nIn the Data Science for Business book you will learn about the difference between predictive and descriptive models, what is entropy, what is the information gain, and how these concepts are used in the creation of decision trees.\nThe Data Science from Scratch will dive deeper in the practical aspects of getting and working with data.\nYou will learn the basics of web scrapping, using APIs, and reading files.\nYou will also learn various Python techniques for containing, cleaning, and manipulating data.\nIn the Common Probability Distributions: The Data Scientist’s Crib Sheet article you will revisit the common probability distributions and learn the basics of a few less common, but still very useful ones.\nIn the Tableau explained in under 10 mins! and Tableau for Data Science and Data Visualization - Crash Course Tutorial video tutorials you'll be introduced to Tableau - an extremely popular and powerful business intelligence tool.\nFinally, you'll start practicing algorithm skills by solving exercises on HackerRank.\n"
   ]
  },
  {
   "cell_type": "markdown",
   "id": "77cf3053-7c03-42a6-bc90-ba7686838c0a",
   "metadata": {},
   "source": [
    "## Depth levels and time estimates\n\nTo make it easier to know how much time you should spend on a particular resource, we give a depth and time estimate for each one.\n\nDepth categories will be used as follows:\n\n- C1 - watch or read the material. No need to look up the documentation of unfamiliar code or look up new concepts in other resources. If there are exercises that are part of the resource, you can treat them as optional. If you feel that you do not understand more than half of the concepts or code in the resource, you are most likely missing some prerequisites. Your understanding of the new material should be 45-65%.\n- C2 - watch or read the material attentively. Look up the documentation of unfamiliar code and look up new concepts in other resources if they feel unclear. Your understanding of the new material should be 65-75%.\n- C3 - watch or read the material very attentively. Look up the documentation of unfamiliar code and look up unfamiliar concepts in other resources until you are confident in your understanding. Your understanding of the new material should be 75-85%.\n- C4 - watch or read the material while replicating all code examples that you read or see on the screen. Look up the documentation of unfamiliar code and retype all unfamiliar code blocks. Look up unfamiliar concepts in other resources until you are confident in your understanding. It is OK if there are still some concepts (or code) that you don't understand after the material, then spend time researching them in other resources. Your understanding of the new material should be 85-90%.\n- C5 - watch or read the material while replicating all code examples that you read or see on the screen. If there are still concepts (or code) that you don't understand after the material, then spend time researching them in other resources. Your understanding of the new material should be 90-95%.\n- C6 - watch or read the material while replicating all code examples that you read or see on the screen. In addition, try to replicate the functionality or concept yourself with different parameters (e.g., different dataset). If there are still concepts (or code) that you don't understand after the material, then spend time researching them in other resources. Your understanding of the new material should be 95-100%.\n\nThe second number means how many hours on average you should aim to spend (however, do not be surprised if sometimes it might take you more and sometimes – less!)\n\nFor example, if you see (C4, 1.5) next to a resource, it means you should be reading the material carefully, replicating the code, aiming for an understanding of 85–90%, spending approximately 1.5 hours."
   ]
  },
  {
   "cell_type": "markdown",
   "id": "8962dd84-64a9-4da7-a58b-43c9e3fcc3cc",
   "metadata": {},
   "source": "## Objectives for this Part\n\n- Learn the difference between dependent and independent variables.\n- Learn the difference between dependent and independent data.\n- Learn how to use Q-Q plots to visually test for data normality.\n- Learn about control variables.\n- Learn about confounding problem.\n- Practice getting data from local and external sources\n- Practice data mangling\n- Learn the basics of supervised learning\n- Learn the most important statistical distributions\n- Learn the basics of Tableau\n- Practice algorithms by solving exercises"
  },
  {
   "cell_type": "markdown",
   "id": "7d70fb8d-c1ee-4762-9fdb-d0aec4e82720",
   "metadata": {},
   "source": [
    "### [Fitting Statistical Models to Data with Python](https://www.coursera.org/learn/fitting-statistical-models-data-python)\n",
    "\n",
    "- WEEK 1 - OVERVIEW & CONSIDERATIONS FOR STATISTICAL MODELING (C3, 2)\n"
   ]
  },
  {
   "cell_type": "markdown",
   "id": "6d1b8da7-bd48-4c23-89a1-fa69b57cc6ec",
   "metadata": {},
   "source": [
    "### [Data Science from Scratch (2nd Edition)](https://learning.oreilly.com/library/view/data-science-from/9781492041122/)\n",
    "\n",
    "- Chapter 9. Getting Data (C4, 1.5)\n",
    "- Chapter 10. Working with Data (C4, 1)\n"
   ]
  },
  {
   "cell_type": "markdown",
   "id": "188dc3d6-6e13-4aae-b2a1-db38ed2551a9",
   "metadata": {},
   "source": [
    "### [Data Science for Business](https://learning.oreilly.com/library/view/data-science-for/9781449374273/)\n",
    "\n",
    "- Chapter 3. Introduction to Predictive Modeling: From Correlation to Supervised Segmentation (C1, 1)\n"
   ]
  },
  {
   "cell_type": "markdown",
   "id": "1952eab3-afc5-4371-b3c1-1fee6897ba4f",
   "metadata": {},
   "source": [
    "### [Common Probability Distributions: The Data Scientist’s Crib Sheet](https://medium.com/@srowen/common-probability-distributions-347e6b945ce4) (C1, 0.5)\n"
   ]
  },
  {
   "cell_type": "markdown",
   "id": "5b182bb1-adf5-4449-a656-d38d7731c1ca",
   "metadata": {},
   "source": [
    "### [Tableau explained in under 10 mins!](https://youtu.be/7Jl-RwkzqQ4) (C1, 0.5)\n"
   ]
  },
  {
   "cell_type": "markdown",
   "id": "b67ad240-ddf4-4d3c-aa3a-098e92abc890",
   "metadata": {},
   "source": [
    "### [Tableau for Data Science and Data Visualization - Crash Course Tutorial](https://www.youtube.com/watch?v=TPMlZxRRaBQ) (C1, 0.5)\n"
   ]
  },
  {
   "cell_type": "markdown",
   "id": "18bac7f7-e60f-4e31-b82d-870a40a863ed",
   "metadata": {},
   "source": [
    "### [HackerRank](https://www.hackerrank.com/)\n",
    "\n",
    "- [Grading Students (C4, 0.5)](https://www.hackerrank.com/challenges/grading/problem)\n"
   ]
  }
 ],
 "metadata": {
  "kernelspec": {
   "display_name": "Python 3",
   "language": "python",
   "name": "python3"
  },
  "language_info": {
   "codemirror_mode": {
    "name": "ipython",
    "version": 3
   },
   "file_extension": ".py",
   "mimetype": "text/x-python",
   "name": "python",
   "nbconvert_exporter": "python",
   "pygments_lexer": "ipython3",
   "version": "3.9.5"
  }
 },
 "nbformat": 4,
 "nbformat_minor": 5
}
